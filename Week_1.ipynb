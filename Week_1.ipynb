{
  "nbformat": 4,
  "nbformat_minor": 0,
  "metadata": {
    "colab": {
      "name": "Q1.ipynb",
      "provenance": [],
      "authorship_tag": "ABX9TyMlULDsr4r+Md2/5BQMXhJp",
      "include_colab_link": true
    },
    "kernelspec": {
      "name": "python3",
      "display_name": "Python 3"
    },
    "language_info": {
      "name": "python"
    }
  },
  "cells": [
    {
      "cell_type": "markdown",
      "metadata": {
        "id": "view-in-github",
        "colab_type": "text"
      },
      "source": [
        "<a href=\"https://colab.research.google.com/github/mesh1992/cs483_AI_-_ML/blob/main/Week_1.ipynb\" target=\"_parent\"><img src=\"https://colab.research.google.com/assets/colab-badge.svg\" alt=\"Open In Colab\"/></a>"
      ]
    },
    {
      "cell_type": "code",
      "execution_count": null,
      "metadata": {
        "colab": {
          "base_uri": "https://localhost:8080/"
        },
        "id": "NgQNx4WrU7-V",
        "outputId": "868cd792-5407-4006-89a8-5ca16091a8ef"
      },
      "outputs": [
        {
          "output_type": "execute_result",
          "data": {
            "text/plain": [
              "array([[[0, 0, 0, 0, 0],\n",
              "        [1, 1, 1, 1, 1],\n",
              "        [2, 2, 2, 2, 2]],\n",
              "\n",
              "       [[0, 1, 2, 3, 4],\n",
              "        [0, 1, 2, 3, 4],\n",
              "        [0, 1, 2, 3, 4]]])"
            ]
          },
          "metadata": {},
          "execution_count": 1
        }
      ],
      "source": [
        "import numpy as np \n",
        " \n",
        "list1=[1.0,2.0,3.0,4.0,5.0] \n",
        "npy_array=np.array(list1, dtype=np.float64) \n",
        "#convert list to array(or something like matrix) \n",
        " \n",
        "npy_array.ndim  # get dimension of array \n",
        "a=np.array([[1,2,3],[4,5,6],[7,8,9]], dtype=np.float64) \n",
        "# np.array - like creating matrix \n",
        "a.ndim \n",
        "a.shape \n",
        "a.size   # total elem in an array \n",
        "a.itemsize  # each elem's size(in bytes) \n",
        "a.dtype.name  # get elem data type name \n",
        "type(a)   # <class 'ndarray'> ndim array \n",
        " \n",
        "np.indices((3,5)) # get index matrix for each elem in 3x5 matrix \n"
      ]
    }
  ]
}