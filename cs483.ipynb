{
  "nbformat": 4,
  "nbformat_minor": 0,
  "metadata": {
    "colab": {
      "name": "cs483.ipynb",
      "provenance": [],
      "authorship_tag": "ABX9TyNT2YgsTfhIn9tfxpfSDuqS"
    },
    "kernelspec": {
      "name": "python3",
      "display_name": "Python 3"
    },
    "language_info": {
      "name": "python"
    }
  },
  "cells": [
    {
      "cell_type": "code",
      "execution_count": null,
      "metadata": {
        "id": "2O1n9hnPf3pW"
      },
      "outputs": [],
      "source": [
        "#Q1\n",
        "#Patients id\n",
        "id = [i for i in range(1,17)]\n",
        "id\n",
        "#Patients Age\n",
        "Age = [60, 61, 74, 57, 63, 68, 66, 77, 63, 54, 63, 76, 60, 61, 65, 79]\n",
        "len(Age)\n",
        "#Patients Weights\n",
        "Weights = [58, 90, 96, 72, 62, 79, 69, 96, 96, 54, 67, 99, 74, 73, 85, 80]\n",
        "len(Weights)\n",
        "#Systolic Blood Pressure\n",
        "SBP = [117, 120, 145, 129, 132, 130, 110, 163, 136, 115, 118, 132, 111, 112, 0, 0]\n",
        "len(SBP)\n",
        "#importing LinearRegression\n",
        "from sklearn.linear_model import LinearRegression\n",
        "#importing pandas module\n",
        "import pandas as pd\n",
        "\n",
        "data = {\"Age(Years)\":Age, \"Weight(Kg)\":Weights, \"SBP(mm Hg)\":SBP}\n",
        "#creating data frame\n",
        "data = pd.DataFrame(data = data)\n",
        "data\n",
        "\n",
        "#Taking x and y values\n",
        "x = data[[\"Age(Years)\", \"Weight(Kg)\"]]\n",
        "y = data[\"SBP(mm Hg)\"]\n",
        "\n",
        "#Taking train and test data\n",
        "x_train = x[:14]\n",
        "x_test = x[14:]\n",
        "\n",
        "y_train = y[:14]\n",
        "y_test = y[14:]\n",
        "\n",
        "#Applying LinearRegression\n",
        "model = LinearRegression()\n",
        "model.fit(x_train, y_train)\n",
        "\n",
        "#predicting remaining values\n",
        "pred = model.predict(x_test)\n",
        "\n",
        "#printing predicted values\n",
        "print(pred)\n"
      ]
    },
    {
      "cell_type": "code",
      "source": [
        "#Q2\n",
        "import matplotlib.pyplot as plt\n",
        "\n",
        "X_Cords =range(-50,50)\n",
        "\n",
        "Y_Cords= [X*X for X in X_Cords]\n",
        "\n",
        "plt.plot(X_Cords,Y_Cords)\n",
        "\n",
        "plt.show()"
      ],
      "metadata": {
        "id": "f-CLMXwIgC99"
      },
      "execution_count": null,
      "outputs": []
    },
    {
      "cell_type": "code",
      "source": [
        "import copy\n",
        "def genmatrix():\n",
        "#creates matrix of two rows and columns\n",
        "col,row = 2, 2;\n",
        "A1 = [[0 for c in range(col)] for r in range(row)]\n",
        "A1[0][0]=1\n",
        "A1[0][1]=-3\n",
        "A1[1][0]=2\n",
        "A1[1][1]=-4\n",
        "  \n",
        "b1=[-1 ,1]\n",
        "  \n",
        "A2 = [[0 for c in range(col)] for r in range(row)]\n",
        "A2[0][0]=5\n",
        "A2[0][1]=-2\n",
        "A2[1][0]=5\n",
        "A2[1][1]=-4\n",
        "  \n",
        "b2=[2 ,-3]\n",
        "return A1,A2,b1,b2\n",
        "\n",
        "def det2(A):\n",
        "#calculates determinant by (a11*a22)-(a12*a21)\n",
        "return (A[0][0]*A[1][1])- (A[0][1]*A[1][0])\n",
        "\n",
        "\n",
        "def slove2(A,b):\n",
        "#implements cramers rule\n",
        "detA=det2(A)\n",
        "x_mat = copy.deepcopy(A)\n",
        "#implements cramers rule by changing first column with b\n",
        "x_mat[0][0]=b[0]\n",
        "x_mat[1][0]=b[1]\n",
        "detX=det2(x_mat)\n",
        "y_mat = copy.deepcopy(A)\n",
        "#implements cramers rule by changing second column with b\n",
        "y_mat[0][1]=b[0]\n",
        "y_mat[1][1]=b[1]\n",
        "detY=det2(y_mat)\n",
        "return detX/detA , detY/detA\n",
        "\n",
        "A1,A2,b1,b2=genmatrix()\n",
        "print(\"the value of X and Y for ist equation is :\",slove2(A1,b1))\n",
        "print(\"the value of X and Y for 2nd equation is :\",slove2(A2,b2))\n"
      ],
      "metadata": {
        "id": "Au-eN0sEgXm5"
      },
      "execution_count": null,
      "outputs": []
    }
  ]
}